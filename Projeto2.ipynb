{
 "cells": [
  {
   "cell_type": "markdown",
   "metadata": {},
   "source": [
    "# Projeto 2 - Ciência dos Dados"
   ]
  },
  {
   "cell_type": "markdown",
   "metadata": {},
   "source": [
    "Nome: felipe\n",
    "\n",
    "Nome: Ohara"
   ]
  },
  {
   "cell_type": "markdown",
   "metadata": {},
   "source": [
    "Serão permitidos grupos de três pessoas, mas com uma rubrica mais exigente. Grupos deste tamanho precisarão fazer um questionário de avaliação de trabalho em equipe"
   ]
  },
  {
   "cell_type": "markdown",
   "metadata": {},
   "source": [
    "___\n",
    "# Classificador automático de sentimento\n"
   ]
  },
  {
   "cell_type": "markdown",
   "metadata": {},
   "source": [
    "## Preparando o ambiente no jupyter:"
   ]
  },
  {
   "cell_type": "code",
   "execution_count": 1,
   "metadata": {},
   "outputs": [],
   "source": [
    "%%capture\n",
    "\n",
    "#Instalando o tweepy\n",
    "!pip install tweepy"
   ]
  },
  {
   "cell_type": "code",
   "execution_count": 2,
   "metadata": {
    "jupyter": {
     "outputs_hidden": true
    }
   },
   "outputs": [],
   "source": [
    "import tweepy\n",
    "import math\n",
    "import os.path\n",
    "import pandas as pd\n",
    "import json\n",
    "from random import shuffle\n",
    "import emoji\n",
    "import emoji_list"
   ]
  },
  {
   "cell_type": "markdown",
   "metadata": {},
   "source": [
    "___\n",
    "## Autenticando no  Twitter\n",
    "\n",
    "* Conta: ***[@felipelacombe54]***"
   ]
  },
  {
   "cell_type": "code",
   "execution_count": 3,
   "metadata": {
    "jupyter": {
     "outputs_hidden": true
    }
   },
   "outputs": [],
   "source": [
    "#Dados de autenticação do twitter:\n",
    "\n",
    "#Coloque aqui o identificador da conta no twitter: @fulano\n",
    "\n",
    "#leitura do arquivo no formato JSON\n",
    "with open('auth.pass') as fp:    \n",
    "    data = json.load(fp)\n",
    "\n",
    "#Configurando a biblioteca. Não modificar\n",
    "auth = tweepy.OAuthHandler(data['consumer_key'], data['consumer_secret'])\n",
    "auth.set_access_token(data['access_token'], data['access_token_secret'])"
   ]
  },
  {
   "cell_type": "markdown",
   "metadata": {},
   "source": [
    "___\n",
    "## Etapas do projeto:"
   ]
  },
  {
   "cell_type": "markdown",
   "metadata": {},
   "source": [
    "### Escolha de um produto e coleta das mensagens\n"
   ]
  },
  {
   "cell_type": "code",
   "execution_count": null,
   "metadata": {
    "jupyter": {
     "outputs_hidden": true
    }
   },
   "outputs": [],
   "source": []
  },
  {
   "cell_type": "markdown",
   "metadata": {},
   "source": [
    "Capturando os dados do twitter:"
   ]
  },
  {
   "cell_type": "code",
   "execution_count": null,
   "metadata": {
    "jupyter": {
     "outputs_hidden": true
    }
   },
   "outputs": [],
   "source": []
  },
  {
   "cell_type": "markdown",
   "metadata": {},
   "source": [
    "Salvando os dados em uma planilha Excel:"
   ]
  },
  {
   "cell_type": "code",
   "execution_count": null,
   "metadata": {
    "jupyter": {
     "outputs_hidden": true
    }
   },
   "outputs": [],
   "source": []
  },
  {
   "cell_type": "markdown",
   "metadata": {},
   "source": [
    "___\n",
    "### Classificando as mensagens na coragem\n",
    "\n",
    "Esta etapa é manual. Faça a mesma pelo Excel."
   ]
  },
  {
   "cell_type": "code",
   "execution_count": null,
   "metadata": {},
   "outputs": [],
   "source": []
  },
  {
   "cell_type": "code",
   "execution_count": null,
   "metadata": {},
   "outputs": [],
   "source": []
  },
  {
   "cell_type": "code",
   "execution_count": null,
   "metadata": {},
   "outputs": [],
   "source": []
  },
  {
   "cell_type": "markdown",
   "metadata": {},
   "source": [
    "### Introduzindo os conceitos\n",
    "\n",
    "Nesse projeto, utilizamos como base para o assunto da coleta de tweets o banco C6Bank. O banco utilisa um modelo moderno para lidar com seus clientes, e recebe e responde a feedback via tweeter. Como critério de análise, consideramos relevante críticas ao banco no geral, elogios construtivos com especificações sobre o que foi apreciado e o que poderia melhorar no serviço do C6Bank, e respostas do próprio banco com especificações sobre o que foi aproveitado do feedback recebido. Elogios sem conteúdo específico, respostas do banco sem retorno relevante aos clientes e todo o resto, foram considerados irrelevantes. "
   ]
  },
  {
   "cell_type": "markdown",
   "metadata": {},
   "source": [
    "___\n",
    "### Montando o Classificador Naive-Bayes\n",
    "\n",
    "Considerando apenas as mensagens da planilha Treinamento, ensine  seu classificador."
   ]
  },
  {
   "cell_type": "code",
   "execution_count": 34,
   "metadata": {},
   "outputs": [],
   "source": [
    "Dataframe = pd.read_excel('C6Bank.xlsx')\n",
    "lista_zero = Dataframe[Dataframe.Relevancia == 0]\n",
    "lista_um = Dataframe[Dataframe.Relevancia == 1]\n",
    "Dataframe['Treinamento'] = Dataframe['Treinamento'].str.replace('ô','o')\n",
    "Dataframe['Treinamento'] = Dataframe['Treinamento'].str.replace('ó','o')\n",
    "Dataframe['Treinamento'] = Dataframe['Treinamento'].str.replace('ú','u')\n",
    "Dataframe['Treinamento'] = Dataframe['Treinamento'].str.replace('ç','c')\n",
    "Dataframe['Treinamento'] = Dataframe['Treinamento'].str.replace('í','i')\n",
    "Dataframe['Treinamento'] = Dataframe['Treinamento'].str.replace('@',' ')\n",
    "Dataframe['Treinamento'] = Dataframe['Treinamento'].str.replace('é','e')\n",
    "Dataframe['Treinamento'] = Dataframe['Treinamento'].str.replace('ê','e')\n",
    "Dataframe['Treinamento'] = Dataframe['Treinamento'].str.replace('á','a')\n",
    "Dataframe['Treinamento'] = Dataframe['Treinamento'].str.replace('ã','a')\n",
    "Dataframe['Treinamento'] = Dataframe['Treinamento'].str.strip()\n",
    "Dataframe['Treinamento'] = Dataframe['Treinamento'].str.lower()"
   ]
  },
  {
   "cell_type": "code",
   "execution_count": 35,
   "metadata": {},
   "outputs": [
    {
     "data": {
      "text/html": [
       "<div>\n",
       "<style scoped>\n",
       "    .dataframe tbody tr th:only-of-type {\n",
       "        vertical-align: middle;\n",
       "    }\n",
       "\n",
       "    .dataframe tbody tr th {\n",
       "        vertical-align: top;\n",
       "    }\n",
       "\n",
       "    .dataframe thead th {\n",
       "        text-align: right;\n",
       "    }\n",
       "</style>\n",
       "<table border=\"1\" class=\"dataframe\">\n",
       "  <thead>\n",
       "    <tr style=\"text-align: right;\">\n",
       "      <th></th>\n",
       "      <th>Relevancia</th>\n",
       "      <th>Treinamento</th>\n",
       "    </tr>\n",
       "  </thead>\n",
       "  <tbody>\n",
       "    <tr>\n",
       "      <th>0</th>\n",
       "      <td>0</td>\n",
       "      <td>estamos sempre ouvindo voce para implantar nov...</td>\n",
       "    </tr>\n",
       "    <tr>\n",
       "      <th>1</th>\n",
       "      <td>1</td>\n",
       "      <td>mv_br neste momento ainda nao temos essa opcao...</td>\n",
       "    </tr>\n",
       "    <tr>\n",
       "      <th>2</th>\n",
       "      <td>1</td>\n",
       "      <td>eduardobedimm opa,  eduardobedimm! tudo certo?...</td>\n",
       "    </tr>\n",
       "    <tr>\n",
       "      <th>3</th>\n",
       "      <td>1</td>\n",
       "      <td>babafemizaki fala,  babafemizaki! essa ideia j...</td>\n",
       "    </tr>\n",
       "    <tr>\n",
       "      <th>4</th>\n",
       "      <td>1</td>\n",
       "      <td>acabei de solicitar atendimento pelo app do  c...</td>\n",
       "    </tr>\n",
       "    <tr>\n",
       "      <th>5</th>\n",
       "      <td>0</td>\n",
       "      <td>wrlsn lindo mesmo, ne,  wrlsn? estamos muito f...</td>\n",
       "    </tr>\n",
       "    <tr>\n",
       "      <th>6</th>\n",
       "      <td>0</td>\n",
       "      <td>caiojsm ahhh! ainda bem que lembrou depois,  c...</td>\n",
       "    </tr>\n",
       "    <tr>\n",
       "      <th>7</th>\n",
       "      <td>0</td>\n",
       "      <td>bradesco  bancodobrasil  bancointer  c6bank  n...</td>\n",
       "    </tr>\n",
       "    <tr>\n",
       "      <th>8</th>\n",
       "      <td>1</td>\n",
       "      <td>camilahepplin oi, camila. tudo bem? atualmente...</td>\n",
       "    </tr>\n",
       "    <tr>\n",
       "      <th>9</th>\n",
       "      <td>0</td>\n",
       "      <td>c6bank opa, nao e nao. mas eu mando pra vcs, g...</td>\n",
       "    </tr>\n",
       "  </tbody>\n",
       "</table>\n",
       "</div>"
      ],
      "text/plain": [
       "   Relevancia                                        Treinamento\n",
       "0           0  estamos sempre ouvindo voce para implantar nov...\n",
       "1           1  mv_br neste momento ainda nao temos essa opcao...\n",
       "2           1  eduardobedimm opa,  eduardobedimm! tudo certo?...\n",
       "3           1  babafemizaki fala,  babafemizaki! essa ideia j...\n",
       "4           1  acabei de solicitar atendimento pelo app do  c...\n",
       "5           0  wrlsn lindo mesmo, ne,  wrlsn? estamos muito f...\n",
       "6           0  caiojsm ahhh! ainda bem que lembrou depois,  c...\n",
       "7           0  bradesco  bancodobrasil  bancointer  c6bank  n...\n",
       "8           1  camilahepplin oi, camila. tudo bem? atualmente...\n",
       "9           0  c6bank opa, nao e nao. mas eu mando pra vcs, g..."
      ]
     },
     "execution_count": 35,
     "metadata": {},
     "output_type": "execute_result"
    }
   ],
   "source": [
    "Dataframe.head(10)"
   ]
  },
  {
   "cell_type": "code",
   "execution_count": 7,
   "metadata": {},
   "outputs": [],
   "source": [
    "lista_relevancia = list(lista_um['Treinamento'])\n",
    "join1 = ' '.join(lista_relevancia)\n",
    "lista_rel = pd.Series(join1.split())"
   ]
  },
  {
   "cell_type": "code",
   "execution_count": 8,
   "metadata": {},
   "outputs": [],
   "source": [
    "lista_irrelevancia = list(lista_zero['Treinamento'])\n",
    "join2 = ' '.join(lista_irrelevancia)\n",
    "lista_irrel = pd.Series(join2.split())"
   ]
  },
  {
   "cell_type": "code",
   "execution_count": 9,
   "metadata": {},
   "outputs": [
    {
     "data": {
      "text/plain": [
       "0    75.0\n",
       "1    25.0\n",
       "Name: Relevancia, dtype: float64"
      ]
     },
     "execution_count": 9,
     "metadata": {},
     "output_type": "execute_result"
    }
   ],
   "source": [
    "Dataframe.Relevancia.value_counts(True) * 100"
   ]
  },
  {
   "cell_type": "code",
   "execution_count": 10,
   "metadata": {},
   "outputs": [],
   "source": [
    "produto_relevante = .75\n",
    "produto_irrelevante = .25"
   ]
  },
  {
   "cell_type": "code",
   "execution_count": 11,
   "metadata": {},
   "outputs": [],
   "source": [
    "vc1 = lista_rel.value_counts() + 1"
   ]
  },
  {
   "cell_type": "code",
   "execution_count": 12,
   "metadata": {},
   "outputs": [],
   "source": [
    "tot1 = sum(vc1)"
   ]
  },
  {
   "cell_type": "code",
   "execution_count": 13,
   "metadata": {},
   "outputs": [],
   "source": [
    "probabilidade1 = (vc1/tot1)"
   ]
  },
  {
   "cell_type": "code",
   "execution_count": 14,
   "metadata": {},
   "outputs": [],
   "source": [
    "dic_relevante = probabilidade1.to_dict()"
   ]
  },
  {
   "cell_type": "code",
   "execution_count": 15,
   "metadata": {},
   "outputs": [],
   "source": [
    "vc0 = lista_irrel.value_counts() + 1"
   ]
  },
  {
   "cell_type": "code",
   "execution_count": 16,
   "metadata": {},
   "outputs": [],
   "source": [
    "tot0 = sum(vc0)"
   ]
  },
  {
   "cell_type": "code",
   "execution_count": 17,
   "metadata": {},
   "outputs": [],
   "source": [
    "probabilidade0 = (vc0/tot0)"
   ]
  },
  {
   "cell_type": "code",
   "execution_count": 18,
   "metadata": {},
   "outputs": [],
   "source": [
    "dic_irrel = probabilidade0.to_dict()"
   ]
  },
  {
   "cell_type": "markdown",
   "metadata": {},
   "source": [
    "___\n",
    "### Verificando a performance\n",
    "\n",
    "Agora você deve testar o seu classificador com a base de Testes."
   ]
  },
  {
   "cell_type": "code",
   "execution_count": 39,
   "metadata": {},
   "outputs": [],
   "source": [
    "Teste = pd.read_excel('C6Bank.xlsx', 'Teste')\n",
    "Teste['Teste'] = teste['Teste'].str.replace('ô','o')\n",
    "Teste['Teste'] = Teste['Teste'].str.replace('ó','o')\n",
    "Teste['Teste'] = Teste['Teste'].str.replace('ú','u')\n",
    "Teste['Teste'] = Teste['Teste'].str.replace('ç','c')\n",
    "Teste['Teste'] = Teste['Teste'].str.replace('í','i')\n",
    "Teste['Teste'] = Teste['Teste'].str.replace('@',' ')\n",
    "Teste['Teste'] = Teste['Teste'].str.replace('é','e')\n",
    "Teste['Teste'] = Teste['Teste'].str.replace('ê','e')\n",
    "Teste['Teste'] = Teste['Teste'].str.replace('á','a')\n",
    "Teste['Teste'] = Teste['Teste'].str.replace('ã','a')\n",
    "Teste['Teste'] = Teste['Teste'].str.strip()\n",
    "Teste['Teste'] = Teste['Teste'].str.lower()"
   ]
  },
  {
   "cell_type": "code",
   "execution_count": 41,
   "metadata": {},
   "outputs": [
    {
     "data": {
      "text/html": [
       "<div>\n",
       "<style scoped>\n",
       "    .dataframe tbody tr th:only-of-type {\n",
       "        vertical-align: middle;\n",
       "    }\n",
       "\n",
       "    .dataframe tbody tr th {\n",
       "        vertical-align: top;\n",
       "    }\n",
       "\n",
       "    .dataframe thead th {\n",
       "        text-align: right;\n",
       "    }\n",
       "</style>\n",
       "<table border=\"1\" class=\"dataframe\">\n",
       "  <thead>\n",
       "    <tr style=\"text-align: right;\">\n",
       "      <th></th>\n",
       "      <th>Relevancia</th>\n",
       "      <th>Teste</th>\n",
       "    </tr>\n",
       "  </thead>\n",
       "  <tbody>\n",
       "    <tr>\n",
       "      <th>0</th>\n",
       "      <td>1</td>\n",
       "      <td>c6bank opa, quis dizer que oficialmente divulg...</td>\n",
       "    </tr>\n",
       "    <tr>\n",
       "      <th>1</th>\n",
       "      <td>1</td>\n",
       "      <td>ontem fiz um comentario e a  c6bank  entrou em...</td>\n",
       "    </tr>\n",
       "    <tr>\n",
       "      <th>2</th>\n",
       "      <td>1</td>\n",
       "      <td>c6bank e o meu cartao cade? 4 meses e nada kkk</td>\n",
       "    </tr>\n",
       "    <tr>\n",
       "      <th>3</th>\n",
       "      <td>1</td>\n",
       "      <td>lucoveiga ja estamos trabalhando nisso, lucas!...</td>\n",
       "    </tr>\n",
       "    <tr>\n",
       "      <th>4</th>\n",
       "      <td>0</td>\n",
       "      <td>leeticiasouza21 que legal ter voce no nosso ti...</td>\n",
       "    </tr>\n",
       "    <tr>\n",
       "      <th>5</th>\n",
       "      <td>0</td>\n",
       "      <td>jg_lopes te respondemos, juliano. da uma olhad...</td>\n",
       "    </tr>\n",
       "    <tr>\n",
       "      <th>6</th>\n",
       "      <td>0</td>\n",
       "      <td>c6bank meu banco ajudando a me manter hidratad...</td>\n",
       "    </tr>\n",
       "    <tr>\n",
       "      <th>7</th>\n",
       "      <td>1</td>\n",
       "      <td>c6bank meu aplicativo nao esta salvando, tudo ...</td>\n",
       "    </tr>\n",
       "    <tr>\n",
       "      <th>8</th>\n",
       "      <td>0</td>\n",
       "      <td>gui_aazevedo01  nubank  c6bank estamos sempre ...</td>\n",
       "    </tr>\n",
       "    <tr>\n",
       "      <th>9</th>\n",
       "      <td>1</td>\n",
       "      <td>gustavogatti88 opa, gustavo! tudo certo? valeu...</td>\n",
       "    </tr>\n",
       "    <tr>\n",
       "      <th>10</th>\n",
       "      <td>0</td>\n",
       "      <td>chegou meu cartao do  c6bank achei a coisa mai...</td>\n",
       "    </tr>\n",
       "    <tr>\n",
       "      <th>11</th>\n",
       "      <td>0</td>\n",
       "      <td>felipecn que demais,  felipecn. esse time e mu...</td>\n",
       "    </tr>\n",
       "    <tr>\n",
       "      <th>12</th>\n",
       "      <td>0</td>\n",
       "      <td>c6bank obrigado por usar meu nome do meio e na...</td>\n",
       "    </tr>\n",
       "    <tr>\n",
       "      <th>13</th>\n",
       "      <td>1</td>\n",
       "      <td>c6bank estou recebendo essa mensagem sempre qu...</td>\n",
       "    </tr>\n",
       "    <tr>\n",
       "      <th>14</th>\n",
       "      <td>0</td>\n",
       "      <td>c6bank  felipecn cade voce no video? 🤪</td>\n",
       "    </tr>\n",
       "    <tr>\n",
       "      <th>15</th>\n",
       "      <td>0</td>\n",
       "      <td>c6bank ate esqueci de marcar!!</td>\n",
       "    </tr>\n",
       "    <tr>\n",
       "      <th>16</th>\n",
       "      <td>0</td>\n",
       "      <td>deavyz valeu, alberto! 🖤💛 #edasuavida</td>\n",
       "    </tr>\n",
       "    <tr>\n",
       "      <th>17</th>\n",
       "      <td>1</td>\n",
       "      <td>edsonpiresnunes ainda nao, edy! atualmente est...</td>\n",
       "    </tr>\n",
       "    <tr>\n",
       "      <th>18</th>\n",
       "      <td>1</td>\n",
       "      <td>bancooriginal  bancointer  c6bank  nubank o pr...</td>\n",
       "    </tr>\n",
       "    <tr>\n",
       "      <th>19</th>\n",
       "      <td>1</td>\n",
       "      <td>mottalacerda conta com a gente, edson. estamos...</td>\n",
       "    </tr>\n",
       "  </tbody>\n",
       "</table>\n",
       "</div>"
      ],
      "text/plain": [
       "    Relevancia                                               Teste\n",
       "0             1  c6bank opa, quis dizer que oficialmente divulg...\n",
       "1             1  ontem fiz um comentario e a  c6bank  entrou em...\n",
       "2             1     c6bank e o meu cartao cade? 4 meses e nada kkk\n",
       "3             1  lucoveiga ja estamos trabalhando nisso, lucas!...\n",
       "4             0  leeticiasouza21 que legal ter voce no nosso ti...\n",
       "5             0  jg_lopes te respondemos, juliano. da uma olhad...\n",
       "6             0  c6bank meu banco ajudando a me manter hidratad...\n",
       "7             1  c6bank meu aplicativo nao esta salvando, tudo ...\n",
       "8             0  gui_aazevedo01  nubank  c6bank estamos sempre ...\n",
       "9             1  gustavogatti88 opa, gustavo! tudo certo? valeu...\n",
       "10            0  chegou meu cartao do  c6bank achei a coisa mai...\n",
       "11            0  felipecn que demais,  felipecn. esse time e mu...\n",
       "12            0  c6bank obrigado por usar meu nome do meio e na...\n",
       "13            1  c6bank estou recebendo essa mensagem sempre qu...\n",
       "14            0             c6bank  felipecn cade voce no video? 🤪\n",
       "15            0                     c6bank ate esqueci de marcar!!\n",
       "16            0              deavyz valeu, alberto! 🖤💛 #edasuavida\n",
       "17            1  edsonpiresnunes ainda nao, edy! atualmente est...\n",
       "18            1  bancooriginal  bancointer  c6bank  nubank o pr...\n",
       "19            1  mottalacerda conta com a gente, edson. estamos..."
      ]
     },
     "execution_count": 41,
     "metadata": {},
     "output_type": "execute_result"
    }
   ],
   "source": [
    "Teste.head(20)"
   ]
  },
  {
   "cell_type": "code",
   "execution_count": 21,
   "metadata": {},
   "outputs": [],
   "source": [
    "resultado = []\n",
    "def Verificacao(Dataframe):\n",
    "    tweets = i.split()\n",
    "    x = 1\n",
    "    y = 1\n",
    "    for palavra in tweets:\n",
    "        if palavra not in dic_relevante:\n",
    "            x *= 1/(tot0 + tot1)\n",
    "        else:\n",
    "            x *= dic_relevante[palavra]\n",
    "        if palavra not in dic_irrel:\n",
    "            y *= 1/(tot0 + tot1)\n",
    "        else:\n",
    "            y *= dic_irrel[palavra]\n",
    "    x1 = x * produto_relevante\n",
    "    y1 = y * produto_irrelevante\n",
    "    if x1 > y1:\n",
    "        return 1\n",
    "    else:\n",
    "        return 0"
   ]
  },
  {
   "cell_type": "code",
   "execution_count": 22,
   "metadata": {},
   "outputs": [],
   "source": [
    "for i in teste.Teste:\n",
    "    resultado.append(Verificacao(teste.Teste))"
   ]
  },
  {
   "cell_type": "code",
   "execution_count": 23,
   "metadata": {},
   "outputs": [],
   "source": [
    "teste['Processado'] = resultado"
   ]
  },
  {
   "cell_type": "markdown",
   "metadata": {},
   "source": [
    "___\n",
    "### Concluindo"
   ]
  },
  {
   "cell_type": "code",
   "execution_count": 28,
   "metadata": {},
   "outputs": [
    {
     "data": {
      "text/html": [
       "<div>\n",
       "<style scoped>\n",
       "    .dataframe tbody tr th:only-of-type {\n",
       "        vertical-align: middle;\n",
       "    }\n",
       "\n",
       "    .dataframe tbody tr th {\n",
       "        vertical-align: top;\n",
       "    }\n",
       "\n",
       "    .dataframe thead th {\n",
       "        text-align: right;\n",
       "    }\n",
       "</style>\n",
       "<table border=\"1\" class=\"dataframe\">\n",
       "  <thead>\n",
       "    <tr style=\"text-align: right;\">\n",
       "      <th>Processado</th>\n",
       "      <th>0</th>\n",
       "      <th>1</th>\n",
       "    </tr>\n",
       "    <tr>\n",
       "      <th>Relevancia</th>\n",
       "      <th></th>\n",
       "      <th></th>\n",
       "    </tr>\n",
       "  </thead>\n",
       "  <tbody>\n",
       "    <tr>\n",
       "      <th>0</th>\n",
       "      <td>78</td>\n",
       "      <td>64</td>\n",
       "    </tr>\n",
       "    <tr>\n",
       "      <th>1</th>\n",
       "      <td>33</td>\n",
       "      <td>25</td>\n",
       "    </tr>\n",
       "  </tbody>\n",
       "</table>\n",
       "</div>"
      ],
      "text/plain": [
       "Processado   0   1\n",
       "Relevancia        \n",
       "0           78  64\n",
       "1           33  25"
      ]
     },
     "execution_count": 28,
     "metadata": {},
     "output_type": "execute_result"
    }
   ],
   "source": [
    "pd.crosstab(Dataframe.Relevancia, teste.Processado)"
   ]
  },
  {
   "cell_type": "markdown",
   "metadata": {},
   "source": [
    "# Concluindo\n",
    "\n",
    "Após concluirmos a análise dos dados, podemos confirmar que o projeto obteve relativo sucesso em classificar ambos os tweets considerados relevantes e irrelevantes. Com uma taxa de acertos aceitável, podemos admitir que o classificador teve a capacidade de corretamente interpretar a maioria dos tweets coletados. Porém, pode-se observar também uma tendência, uma vez que quanto menos objetivo o assunto ou fraseamento do tweet é, menor é a chance de acerto do programa.   "
   ]
  },
  {
   "cell_type": "markdown",
   "metadata": {},
   "source": [
    "## Aperfeiçoamento:\n",
    "\n",
    "Os trabalhos vão evoluir em conceito dependendo da quantidade de itens avançados:\n",
    "\n",
    "* Limpar: \\n, :, \", ', (, ), etc SEM remover emojis\n",
    "* Corrigir separação de espaços entre palavras e emojis ou emojis e emojis\n",
    "* Propor outras limpezas e transformações que não afetem a qualidade da informação ou classificação\n",
    "* Criar categorias intermediárias de relevância baseadas na probabilidade: ex.: muito relevante, relevante, neutro, irrelevante, muito irrelevante (3 categorias: C, mais categorias conta para B)\n",
    "* Explicar por que não posso usar o próprio classificador para gerar mais amostras de treinamento\n",
    "* Propor diferentes cenários para Naïve Bayes fora do contexto do projeto\n",
    "* Sugerir e explicar melhorias reais com indicações concretas de como implementar (indicar como fazer e indicar material de pesquisa)\n",
    "* Montar um dashboard que periodicamente realiza análise de sentimento e visualiza estes dados"
   ]
  },
  {
   "cell_type": "markdown",
   "metadata": {},
   "source": [
    "# Referências"
   ]
  },
  {
   "cell_type": "markdown",
   "metadata": {},
   "source": [
    "[Naive Bayes and Text Classification](https://arxiv.org/pdf/1410.5329.pdf) \n",
    "\n",
    "[A practical explanation of a Naive Bayes Classifier](https://monkeylearn.com/blog/practical-explanation-naive-bayes-classifier/) "
   ]
  },
  {
   "cell_type": "code",
   "execution_count": null,
   "metadata": {},
   "outputs": [],
   "source": []
  },
  {
   "cell_type": "code",
   "execution_count": null,
   "metadata": {},
   "outputs": [],
   "source": []
  }
 ],
 "metadata": {
  "kernelspec": {
   "display_name": "Python 3",
   "language": "python",
   "name": "python3"
  },
  "language_info": {
   "codemirror_mode": {
    "name": "ipython",
    "version": 3
   },
   "file_extension": ".py",
   "mimetype": "text/x-python",
   "name": "python",
   "nbconvert_exporter": "python",
   "pygments_lexer": "ipython3",
   "version": "3.7.1"
  }
 },
 "nbformat": 4,
 "nbformat_minor": 4
}
